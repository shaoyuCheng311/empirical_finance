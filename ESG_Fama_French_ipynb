{
  "nbformat": 4,
  "nbformat_minor": 0,
  "metadata": {
    "colab": {
      "name": "“ESG-Fama_French.ipynb”的副本",
      "provenance": [],
      "collapsed_sections": [],
      "include_colab_link": true
    },
    "kernelspec": {
      "name": "python3",
      "display_name": "Python 3"
    },
    "language_info": {
      "name": "python"
    }
  },
  "cells": [
    {
      "cell_type": "markdown",
      "metadata": {
        "id": "view-in-github",
        "colab_type": "text"
      },
      "source": [
        "<a href=\"https://colab.research.google.com/github/shaoyuCheng311/empirical_finance/blob/main/ESG_Fama_French_ipynb\" target=\"_parent\"><img src=\"https://colab.research.google.com/assets/colab-badge.svg\" alt=\"Open In Colab\"/></a>"
      ]
    },
    {
      "cell_type": "code",
      "source": [
        "!pip --quiet install pandas-datareader\n",
        "!pip --quiet install yfinance"
      ],
      "metadata": {
        "id": "M75GdPPsovSY"
      },
      "execution_count": null,
      "outputs": []
    },
    {
      "cell_type": "code",
      "execution_count": null,
      "metadata": {
        "id": "CH-XOrWQnp21"
      },
      "outputs": [],
      "source": [
        "import pandas_datareader.data as reader\n",
        "import pandas as pd\n",
        "import datetime as dt\n",
        "import statsmodels.api as sm\n",
        "import yfinance as yf"
      ]
    },
    {
      "cell_type": "code",
      "source": [
        "df_esg=pd.read_csv('df_monthly_adobe.csv')\n",
        "df_esg=df_esg.set_index('Date')\n",
        "df_esg=df_esg[:59]"
      ],
      "metadata": {
        "id": "LtLZTVp-eC26"
      },
      "execution_count": null,
      "outputs": []
    },
    {
      "cell_type": "code",
      "source": [
        "df_esg.tail()"
      ],
      "metadata": {
        "id": "z-US3iaPfIbq",
        "outputId": "21987924-516c-4002-ddcd-a2c050fe9d87",
        "colab": {
          "base_uri": "https://localhost:8080/",
          "height": 238
        }
      },
      "execution_count": null,
      "outputs": [
        {
          "output_type": "execute_result",
          "data": {
            "text/html": [
              "<div>\n",
              "<style scoped>\n",
              "    .dataframe tbody tr th:only-of-type {\n",
              "        vertical-align: middle;\n",
              "    }\n",
              "\n",
              "    .dataframe tbody tr th {\n",
              "        vertical-align: top;\n",
              "    }\n",
              "\n",
              "    .dataframe thead th {\n",
              "        text-align: right;\n",
              "    }\n",
              "</style>\n",
              "<table border=\"1\" class=\"dataframe\">\n",
              "  <thead>\n",
              "    <tr style=\"text-align: right;\">\n",
              "      <th></th>\n",
              "      <th>AvgTone</th>\n",
              "    </tr>\n",
              "    <tr>\n",
              "      <th>Date</th>\n",
              "      <th></th>\n",
              "    </tr>\n",
              "  </thead>\n",
              "  <tbody>\n",
              "    <tr>\n",
              "      <th>2021-06-30</th>\n",
              "      <td>57.121221</td>\n",
              "    </tr>\n",
              "    <tr>\n",
              "      <th>2021-07-31</th>\n",
              "      <td>57.128547</td>\n",
              "    </tr>\n",
              "    <tr>\n",
              "      <th>2021-08-31</th>\n",
              "      <td>57.121180</td>\n",
              "    </tr>\n",
              "    <tr>\n",
              "      <th>2021-09-30</th>\n",
              "      <td>57.271274</td>\n",
              "    </tr>\n",
              "    <tr>\n",
              "      <th>2021-10-31</th>\n",
              "      <td>57.051784</td>\n",
              "    </tr>\n",
              "  </tbody>\n",
              "</table>\n",
              "</div>"
            ],
            "text/plain": [
              "              AvgTone\n",
              "Date                 \n",
              "2021-06-30  57.121221\n",
              "2021-07-31  57.128547\n",
              "2021-08-31  57.121180\n",
              "2021-09-30  57.271274\n",
              "2021-10-31  57.051784"
            ]
          },
          "metadata": {},
          "execution_count": 50
        }
      ]
    },
    {
      "cell_type": "code",
      "source": [
        "# df_esg=df_esg['AvgTone'].pct_change()"
      ],
      "metadata": {
        "id": "-WH6OIIBebGX"
      },
      "execution_count": null,
      "outputs": []
    },
    {
      "cell_type": "code",
      "source": [
        "end = dt.date(2021,12,1)\n",
        "start = dt.date(2016,12,1)\n",
        "funds = ['ADBE']"
      ],
      "metadata": {
        "id": "CKVQrbtEoCBV"
      },
      "execution_count": null,
      "outputs": []
    },
    {
      "cell_type": "code",
      "source": [
        "fundsret = pd.DataFrame()\n",
        "for stock in funds:\n",
        "    fundsret[stock] = yf.download(stock, data_source=\"yahoo\", start=start,end=end)['Adj Close'].pct_change()\n",
        "fundsret.head()\n"
      ],
      "metadata": {
        "colab": {
          "base_uri": "https://localhost:8080/",
          "height": 255
        },
        "id": "eAduViiQpw6S",
        "outputId": "718ddfc4-38ae-4e25-80b5-3ec10f09c9dc"
      },
      "execution_count": null,
      "outputs": [
        {
          "output_type": "stream",
          "name": "stdout",
          "text": [
            "\r[*********************100%***********************]  1 of 1 completed\n"
          ]
        },
        {
          "output_type": "execute_result",
          "data": {
            "text/html": [
              "<div>\n",
              "<style scoped>\n",
              "    .dataframe tbody tr th:only-of-type {\n",
              "        vertical-align: middle;\n",
              "    }\n",
              "\n",
              "    .dataframe tbody tr th {\n",
              "        vertical-align: top;\n",
              "    }\n",
              "\n",
              "    .dataframe thead th {\n",
              "        text-align: right;\n",
              "    }\n",
              "</style>\n",
              "<table border=\"1\" class=\"dataframe\">\n",
              "  <thead>\n",
              "    <tr style=\"text-align: right;\">\n",
              "      <th></th>\n",
              "      <th>ADBE</th>\n",
              "    </tr>\n",
              "    <tr>\n",
              "      <th>Date</th>\n",
              "      <th></th>\n",
              "    </tr>\n",
              "  </thead>\n",
              "  <tbody>\n",
              "    <tr>\n",
              "      <th>2016-12-01</th>\n",
              "      <td>NaN</td>\n",
              "    </tr>\n",
              "    <tr>\n",
              "      <th>2016-12-02</th>\n",
              "      <td>0.002211</td>\n",
              "    </tr>\n",
              "    <tr>\n",
              "      <th>2016-12-05</th>\n",
              "      <td>0.022260</td>\n",
              "    </tr>\n",
              "    <tr>\n",
              "      <th>2016-12-06</th>\n",
              "      <td>-0.003923</td>\n",
              "    </tr>\n",
              "    <tr>\n",
              "      <th>2016-12-07</th>\n",
              "      <td>0.017824</td>\n",
              "    </tr>\n",
              "  </tbody>\n",
              "</table>\n",
              "</div>"
            ],
            "text/plain": [
              "                ADBE\n",
              "Date                \n",
              "2016-12-01       NaN\n",
              "2016-12-02  0.002211\n",
              "2016-12-05  0.022260\n",
              "2016-12-06 -0.003923\n",
              "2016-12-07  0.017824"
            ]
          },
          "metadata": {},
          "execution_count": 53
        }
      ]
    },
    {
      "cell_type": "code",
      "source": [
        "fundsret_mtl = fundsret.resample('M').agg(lambda x:(x+1).prod()-1)\n",
        "fundsret_mtl = fundsret_mtl[1:]\n",
        "fundsret_mtl"
      ],
      "metadata": {
        "colab": {
          "base_uri": "https://localhost:8080/",
          "height": 1000
        },
        "id": "vovrFS7LrUfu",
        "outputId": "314b62e7-175c-48cb-b936-2715f120abb5"
      },
      "execution_count": null,
      "outputs": [
        {
          "output_type": "execute_result",
          "data": {
            "text/html": [
              "<div>\n",
              "<style scoped>\n",
              "    .dataframe tbody tr th:only-of-type {\n",
              "        vertical-align: middle;\n",
              "    }\n",
              "\n",
              "    .dataframe tbody tr th {\n",
              "        vertical-align: top;\n",
              "    }\n",
              "\n",
              "    .dataframe thead th {\n",
              "        text-align: right;\n",
              "    }\n",
              "</style>\n",
              "<table border=\"1\" class=\"dataframe\">\n",
              "  <thead>\n",
              "    <tr style=\"text-align: right;\">\n",
              "      <th></th>\n",
              "      <th>ADBE</th>\n",
              "    </tr>\n",
              "    <tr>\n",
              "      <th>Date</th>\n",
              "      <th></th>\n",
              "    </tr>\n",
              "  </thead>\n",
              "  <tbody>\n",
              "    <tr>\n",
              "      <th>2017-01-31</th>\n",
              "      <td>0.101311</td>\n",
              "    </tr>\n",
              "    <tr>\n",
              "      <th>2017-02-28</th>\n",
              "      <td>0.043747</td>\n",
              "    </tr>\n",
              "    <tr>\n",
              "      <th>2017-03-31</th>\n",
              "      <td>0.099628</td>\n",
              "    </tr>\n",
              "    <tr>\n",
              "      <th>2017-04-30</th>\n",
              "      <td>0.027741</td>\n",
              "    </tr>\n",
              "    <tr>\n",
              "      <th>2017-05-31</th>\n",
              "      <td>0.060715</td>\n",
              "    </tr>\n",
              "    <tr>\n",
              "      <th>2017-06-30</th>\n",
              "      <td>-0.002961</td>\n",
              "    </tr>\n",
              "    <tr>\n",
              "      <th>2017-07-31</th>\n",
              "      <td>0.035704</td>\n",
              "    </tr>\n",
              "    <tr>\n",
              "      <th>2017-08-31</th>\n",
              "      <td>0.059185</td>\n",
              "    </tr>\n",
              "    <tr>\n",
              "      <th>2017-09-30</th>\n",
              "      <td>-0.038541</td>\n",
              "    </tr>\n",
              "    <tr>\n",
              "      <th>2017-10-31</th>\n",
              "      <td>0.174152</td>\n",
              "    </tr>\n",
              "    <tr>\n",
              "      <th>2017-11-30</th>\n",
              "      <td>0.036024</td>\n",
              "    </tr>\n",
              "    <tr>\n",
              "      <th>2017-12-31</th>\n",
              "      <td>-0.034331</td>\n",
              "    </tr>\n",
              "    <tr>\n",
              "      <th>2018-01-31</th>\n",
              "      <td>0.139922</td>\n",
              "    </tr>\n",
              "    <tr>\n",
              "      <th>2018-02-28</th>\n",
              "      <td>0.046906</td>\n",
              "    </tr>\n",
              "    <tr>\n",
              "      <th>2018-03-31</th>\n",
              "      <td>0.033233</td>\n",
              "    </tr>\n",
              "    <tr>\n",
              "      <th>2018-04-30</th>\n",
              "      <td>0.025546</td>\n",
              "    </tr>\n",
              "    <tr>\n",
              "      <th>2018-05-31</th>\n",
              "      <td>0.124910</td>\n",
              "    </tr>\n",
              "    <tr>\n",
              "      <th>2018-06-30</th>\n",
              "      <td>-0.021943</td>\n",
              "    </tr>\n",
              "    <tr>\n",
              "      <th>2018-07-31</th>\n",
              "      <td>0.003568</td>\n",
              "    </tr>\n",
              "    <tr>\n",
              "      <th>2018-08-31</th>\n",
              "      <td>0.076958</td>\n",
              "    </tr>\n",
              "    <tr>\n",
              "      <th>2018-09-30</th>\n",
              "      <td>0.024439</td>\n",
              "    </tr>\n",
              "    <tr>\n",
              "      <th>2018-10-31</th>\n",
              "      <td>-0.089609</td>\n",
              "    </tr>\n",
              "    <tr>\n",
              "      <th>2018-11-30</th>\n",
              "      <td>0.020874</td>\n",
              "    </tr>\n",
              "    <tr>\n",
              "      <th>2018-12-31</th>\n",
              "      <td>-0.098250</td>\n",
              "    </tr>\n",
              "    <tr>\n",
              "      <th>2019-01-31</th>\n",
              "      <td>0.095385</td>\n",
              "    </tr>\n",
              "    <tr>\n",
              "      <th>2019-02-28</th>\n",
              "      <td>0.059237</td>\n",
              "    </tr>\n",
              "    <tr>\n",
              "      <th>2019-03-31</th>\n",
              "      <td>0.015200</td>\n",
              "    </tr>\n",
              "    <tr>\n",
              "      <th>2019-04-30</th>\n",
              "      <td>0.085407</td>\n",
              "    </tr>\n",
              "    <tr>\n",
              "      <th>2019-05-31</th>\n",
              "      <td>-0.063440</td>\n",
              "    </tr>\n",
              "    <tr>\n",
              "      <th>2019-06-30</th>\n",
              "      <td>0.087671</td>\n",
              "    </tr>\n",
              "    <tr>\n",
              "      <th>2019-07-31</th>\n",
              "      <td>0.014288</td>\n",
              "    </tr>\n",
              "    <tr>\n",
              "      <th>2019-08-31</th>\n",
              "      <td>-0.048016</td>\n",
              "    </tr>\n",
              "    <tr>\n",
              "      <th>2019-09-30</th>\n",
              "      <td>-0.029032</td>\n",
              "    </tr>\n",
              "    <tr>\n",
              "      <th>2019-10-31</th>\n",
              "      <td>0.006081</td>\n",
              "    </tr>\n",
              "    <tr>\n",
              "      <th>2019-11-30</th>\n",
              "      <td>0.113698</td>\n",
              "    </tr>\n",
              "    <tr>\n",
              "      <th>2019-12-31</th>\n",
              "      <td>0.065519</td>\n",
              "    </tr>\n",
              "    <tr>\n",
              "      <th>2020-01-31</th>\n",
              "      <td>0.064674</td>\n",
              "    </tr>\n",
              "    <tr>\n",
              "      <th>2020-02-29</th>\n",
              "      <td>-0.017144</td>\n",
              "    </tr>\n",
              "    <tr>\n",
              "      <th>2020-03-31</th>\n",
              "      <td>-0.077886</td>\n",
              "    </tr>\n",
              "    <tr>\n",
              "      <th>2020-04-30</th>\n",
              "      <td>0.111237</td>\n",
              "    </tr>\n",
              "    <tr>\n",
              "      <th>2020-05-31</th>\n",
              "      <td>0.093202</td>\n",
              "    </tr>\n",
              "    <tr>\n",
              "      <th>2020-06-30</th>\n",
              "      <td>0.125996</td>\n",
              "    </tr>\n",
              "    <tr>\n",
              "      <th>2020-07-31</th>\n",
              "      <td>0.020698</td>\n",
              "    </tr>\n",
              "    <tr>\n",
              "      <th>2020-08-31</th>\n",
              "      <td>0.155451</td>\n",
              "    </tr>\n",
              "    <tr>\n",
              "      <th>2020-09-30</th>\n",
              "      <td>-0.044722</td>\n",
              "    </tr>\n",
              "    <tr>\n",
              "      <th>2020-10-31</th>\n",
              "      <td>-0.088351</td>\n",
              "    </tr>\n",
              "    <tr>\n",
              "      <th>2020-11-30</th>\n",
              "      <td>0.070163</td>\n",
              "    </tr>\n",
              "    <tr>\n",
              "      <th>2020-12-31</th>\n",
              "      <td>0.045248</td>\n",
              "    </tr>\n",
              "    <tr>\n",
              "      <th>2021-01-31</th>\n",
              "      <td>-0.082680</td>\n",
              "    </tr>\n",
              "    <tr>\n",
              "      <th>2021-02-28</th>\n",
              "      <td>0.001962</td>\n",
              "    </tr>\n",
              "    <tr>\n",
              "      <th>2021-03-31</th>\n",
              "      <td>0.034155</td>\n",
              "    </tr>\n",
              "    <tr>\n",
              "      <th>2021-04-30</th>\n",
              "      <td>0.069357</td>\n",
              "    </tr>\n",
              "    <tr>\n",
              "      <th>2021-05-31</th>\n",
              "      <td>-0.007397</td>\n",
              "    </tr>\n",
              "    <tr>\n",
              "      <th>2021-06-30</th>\n",
              "      <td>0.160649</td>\n",
              "    </tr>\n",
              "    <tr>\n",
              "      <th>2021-07-31</th>\n",
              "      <td>0.061454</td>\n",
              "    </tr>\n",
              "    <tr>\n",
              "      <th>2021-08-31</th>\n",
              "      <td>0.067677</td>\n",
              "    </tr>\n",
              "    <tr>\n",
              "      <th>2021-09-30</th>\n",
              "      <td>-0.132560</td>\n",
              "    </tr>\n",
              "    <tr>\n",
              "      <th>2021-10-31</th>\n",
              "      <td>0.129646</td>\n",
              "    </tr>\n",
              "    <tr>\n",
              "      <th>2021-11-30</th>\n",
              "      <td>0.029968</td>\n",
              "    </tr>\n",
              "  </tbody>\n",
              "</table>\n",
              "</div>"
            ],
            "text/plain": [
              "                ADBE\n",
              "Date                \n",
              "2017-01-31  0.101311\n",
              "2017-02-28  0.043747\n",
              "2017-03-31  0.099628\n",
              "2017-04-30  0.027741\n",
              "2017-05-31  0.060715\n",
              "2017-06-30 -0.002961\n",
              "2017-07-31  0.035704\n",
              "2017-08-31  0.059185\n",
              "2017-09-30 -0.038541\n",
              "2017-10-31  0.174152\n",
              "2017-11-30  0.036024\n",
              "2017-12-31 -0.034331\n",
              "2018-01-31  0.139922\n",
              "2018-02-28  0.046906\n",
              "2018-03-31  0.033233\n",
              "2018-04-30  0.025546\n",
              "2018-05-31  0.124910\n",
              "2018-06-30 -0.021943\n",
              "2018-07-31  0.003568\n",
              "2018-08-31  0.076958\n",
              "2018-09-30  0.024439\n",
              "2018-10-31 -0.089609\n",
              "2018-11-30  0.020874\n",
              "2018-12-31 -0.098250\n",
              "2019-01-31  0.095385\n",
              "2019-02-28  0.059237\n",
              "2019-03-31  0.015200\n",
              "2019-04-30  0.085407\n",
              "2019-05-31 -0.063440\n",
              "2019-06-30  0.087671\n",
              "2019-07-31  0.014288\n",
              "2019-08-31 -0.048016\n",
              "2019-09-30 -0.029032\n",
              "2019-10-31  0.006081\n",
              "2019-11-30  0.113698\n",
              "2019-12-31  0.065519\n",
              "2020-01-31  0.064674\n",
              "2020-02-29 -0.017144\n",
              "2020-03-31 -0.077886\n",
              "2020-04-30  0.111237\n",
              "2020-05-31  0.093202\n",
              "2020-06-30  0.125996\n",
              "2020-07-31  0.020698\n",
              "2020-08-31  0.155451\n",
              "2020-09-30 -0.044722\n",
              "2020-10-31 -0.088351\n",
              "2020-11-30  0.070163\n",
              "2020-12-31  0.045248\n",
              "2021-01-31 -0.082680\n",
              "2021-02-28  0.001962\n",
              "2021-03-31  0.034155\n",
              "2021-04-30  0.069357\n",
              "2021-05-31 -0.007397\n",
              "2021-06-30  0.160649\n",
              "2021-07-31  0.061454\n",
              "2021-08-31  0.067677\n",
              "2021-09-30 -0.132560\n",
              "2021-10-31  0.129646\n",
              "2021-11-30  0.029968"
            ]
          },
          "metadata": {},
          "execution_count": 54
        }
      ]
    },
    {
      "cell_type": "code",
      "source": [
        "factors = reader.DataReader('F-F_Research_Data_Factors','famafrench',start,end)[0]\n",
        "# factors = factors[1:]\n"
      ],
      "metadata": {
        "id": "yEospFmgoE5S"
      },
      "execution_count": null,
      "outputs": []
    },
    {
      "cell_type": "code",
      "source": [
        "fundsret_mtl.shape"
      ],
      "metadata": {
        "colab": {
          "base_uri": "https://localhost:8080/"
        },
        "id": "mALGMPtNtmzm",
        "outputId": "91f8a8ac-cc02-480e-e7bb-331a2b15c4bb"
      },
      "execution_count": null,
      "outputs": [
        {
          "output_type": "execute_result",
          "data": {
            "text/plain": [
              "(59, 1)"
            ]
          },
          "metadata": {},
          "execution_count": 56
        }
      ]
    },
    {
      "cell_type": "code",
      "source": [
        "factors.shape"
      ],
      "metadata": {
        "colab": {
          "base_uri": "https://localhost:8080/"
        },
        "id": "fmsYo_ast44k",
        "outputId": "21ce3399-14ac-4615-d2d1-68b251f481cd"
      },
      "execution_count": null,
      "outputs": [
        {
          "output_type": "execute_result",
          "data": {
            "text/plain": [
              "(59, 4)"
            ]
          },
          "metadata": {},
          "execution_count": 58
        }
      ]
    },
    {
      "cell_type": "code",
      "source": [
        "df_esg.shape"
      ],
      "metadata": {
        "id": "oYNJWnOFeoFl",
        "outputId": "eff3d3a8-00fb-4daa-dd33-ca767d1bfac4",
        "colab": {
          "base_uri": "https://localhost:8080/"
        }
      },
      "execution_count": null,
      "outputs": [
        {
          "output_type": "execute_result",
          "data": {
            "text/plain": [
              "(59, 1)"
            ]
          },
          "metadata": {},
          "execution_count": 59
        }
      ]
    },
    {
      "cell_type": "code",
      "source": [
        "fundsret_mtl.index = factors.index"
      ],
      "metadata": {
        "id": "TpBUaTy7t0ea"
      },
      "execution_count": null,
      "outputs": []
    },
    {
      "cell_type": "code",
      "source": [
        ""
      ],
      "metadata": {
        "id": "IJH9arL2erzr"
      },
      "execution_count": null,
      "outputs": []
    },
    {
      "cell_type": "code",
      "source": [
        ""
      ],
      "metadata": {
        "id": "b7nXDcXBvqkP"
      },
      "execution_count": null,
      "outputs": []
    },
    {
      "cell_type": "code",
      "source": [
        "merge = pd.merge(fundsret_mtl,factors, on = 'Date')"
      ],
      "metadata": {
        "id": "hNuf_iNuvrhy"
      },
      "execution_count": null,
      "outputs": []
    },
    {
      "cell_type": "code",
      "source": [
        "merge['ADBE-RF'] = merge.ADBE - merge.RF\n"
      ],
      "metadata": {
        "id": "5Dkx5rS5vwJe"
      },
      "execution_count": null,
      "outputs": []
    },
    {
      "cell_type": "code",
      "source": [
        "merge.tail()"
      ],
      "metadata": {
        "id": "8P7udCoKvyGL",
        "colab": {
          "base_uri": "https://localhost:8080/",
          "height": 238
        },
        "outputId": "162d4b4e-36d7-4d3a-feec-96fc9f3c5fab"
      },
      "execution_count": null,
      "outputs": [
        {
          "output_type": "execute_result",
          "data": {
            "text/html": [
              "<div>\n",
              "<style scoped>\n",
              "    .dataframe tbody tr th:only-of-type {\n",
              "        vertical-align: middle;\n",
              "    }\n",
              "\n",
              "    .dataframe tbody tr th {\n",
              "        vertical-align: top;\n",
              "    }\n",
              "\n",
              "    .dataframe thead th {\n",
              "        text-align: right;\n",
              "    }\n",
              "</style>\n",
              "<table border=\"1\" class=\"dataframe\">\n",
              "  <thead>\n",
              "    <tr style=\"text-align: right;\">\n",
              "      <th></th>\n",
              "      <th>ADBE</th>\n",
              "      <th>Mkt-RF</th>\n",
              "      <th>SMB</th>\n",
              "      <th>HML</th>\n",
              "      <th>RF</th>\n",
              "      <th>ADBE-RF</th>\n",
              "    </tr>\n",
              "    <tr>\n",
              "      <th>Date</th>\n",
              "      <th></th>\n",
              "      <th></th>\n",
              "      <th></th>\n",
              "      <th></th>\n",
              "      <th></th>\n",
              "      <th></th>\n",
              "    </tr>\n",
              "  </thead>\n",
              "  <tbody>\n",
              "    <tr>\n",
              "      <th>2021-06</th>\n",
              "      <td>0.061454</td>\n",
              "      <td>2.75</td>\n",
              "      <td>1.80</td>\n",
              "      <td>-7.76</td>\n",
              "      <td>0.0</td>\n",
              "      <td>0.061454</td>\n",
              "    </tr>\n",
              "    <tr>\n",
              "      <th>2021-07</th>\n",
              "      <td>0.067677</td>\n",
              "      <td>1.27</td>\n",
              "      <td>-3.96</td>\n",
              "      <td>-1.75</td>\n",
              "      <td>0.0</td>\n",
              "      <td>0.067677</td>\n",
              "    </tr>\n",
              "    <tr>\n",
              "      <th>2021-08</th>\n",
              "      <td>-0.132560</td>\n",
              "      <td>2.90</td>\n",
              "      <td>-0.48</td>\n",
              "      <td>-0.13</td>\n",
              "      <td>0.0</td>\n",
              "      <td>-0.132560</td>\n",
              "    </tr>\n",
              "    <tr>\n",
              "      <th>2021-09</th>\n",
              "      <td>0.129646</td>\n",
              "      <td>-4.37</td>\n",
              "      <td>0.80</td>\n",
              "      <td>5.09</td>\n",
              "      <td>0.0</td>\n",
              "      <td>0.129646</td>\n",
              "    </tr>\n",
              "    <tr>\n",
              "      <th>2021-10</th>\n",
              "      <td>0.029968</td>\n",
              "      <td>6.65</td>\n",
              "      <td>-2.28</td>\n",
              "      <td>-0.45</td>\n",
              "      <td>0.0</td>\n",
              "      <td>0.029968</td>\n",
              "    </tr>\n",
              "  </tbody>\n",
              "</table>\n",
              "</div>"
            ],
            "text/plain": [
              "             ADBE  Mkt-RF   SMB   HML   RF   ADBE-RF\n",
              "Date                                                \n",
              "2021-06  0.061454    2.75  1.80 -7.76  0.0  0.061454\n",
              "2021-07  0.067677    1.27 -3.96 -1.75  0.0  0.067677\n",
              "2021-08 -0.132560    2.90 -0.48 -0.13  0.0 -0.132560\n",
              "2021-09  0.129646   -4.37  0.80  5.09  0.0  0.129646\n",
              "2021-10  0.029968    6.65 -2.28 -0.45  0.0  0.029968"
            ]
          },
          "metadata": {},
          "execution_count": 64
        }
      ]
    },
    {
      "cell_type": "code",
      "source": [
        "df_esg.index=merge.index"
      ],
      "metadata": {
        "id": "Pdz7lpojfSj9"
      },
      "execution_count": null,
      "outputs": []
    },
    {
      "cell_type": "code",
      "source": [
        "merge_2 = pd.merge(merge,df_esg, on = 'Date')"
      ],
      "metadata": {
        "id": "mAr8ZilCfB47"
      },
      "execution_count": null,
      "outputs": []
    },
    {
      "cell_type": "code",
      "source": [
        "merge_2.tail()"
      ],
      "metadata": {
        "id": "3Meo07gafVM1",
        "outputId": "2c6abc0b-5d83-4ba1-df0f-800ddea2ca76",
        "colab": {
          "base_uri": "https://localhost:8080/",
          "height": 238
        }
      },
      "execution_count": null,
      "outputs": [
        {
          "output_type": "execute_result",
          "data": {
            "text/html": [
              "<div>\n",
              "<style scoped>\n",
              "    .dataframe tbody tr th:only-of-type {\n",
              "        vertical-align: middle;\n",
              "    }\n",
              "\n",
              "    .dataframe tbody tr th {\n",
              "        vertical-align: top;\n",
              "    }\n",
              "\n",
              "    .dataframe thead th {\n",
              "        text-align: right;\n",
              "    }\n",
              "</style>\n",
              "<table border=\"1\" class=\"dataframe\">\n",
              "  <thead>\n",
              "    <tr style=\"text-align: right;\">\n",
              "      <th></th>\n",
              "      <th>ADBE</th>\n",
              "      <th>Mkt-RF</th>\n",
              "      <th>SMB</th>\n",
              "      <th>HML</th>\n",
              "      <th>RF</th>\n",
              "      <th>ADBE-RF</th>\n",
              "      <th>AvgTone</th>\n",
              "    </tr>\n",
              "    <tr>\n",
              "      <th>Date</th>\n",
              "      <th></th>\n",
              "      <th></th>\n",
              "      <th></th>\n",
              "      <th></th>\n",
              "      <th></th>\n",
              "      <th></th>\n",
              "      <th></th>\n",
              "    </tr>\n",
              "  </thead>\n",
              "  <tbody>\n",
              "    <tr>\n",
              "      <th>2021-06</th>\n",
              "      <td>0.061454</td>\n",
              "      <td>2.75</td>\n",
              "      <td>1.80</td>\n",
              "      <td>-7.76</td>\n",
              "      <td>0.0</td>\n",
              "      <td>0.061454</td>\n",
              "      <td>57.121221</td>\n",
              "    </tr>\n",
              "    <tr>\n",
              "      <th>2021-07</th>\n",
              "      <td>0.067677</td>\n",
              "      <td>1.27</td>\n",
              "      <td>-3.96</td>\n",
              "      <td>-1.75</td>\n",
              "      <td>0.0</td>\n",
              "      <td>0.067677</td>\n",
              "      <td>57.128547</td>\n",
              "    </tr>\n",
              "    <tr>\n",
              "      <th>2021-08</th>\n",
              "      <td>-0.132560</td>\n",
              "      <td>2.90</td>\n",
              "      <td>-0.48</td>\n",
              "      <td>-0.13</td>\n",
              "      <td>0.0</td>\n",
              "      <td>-0.132560</td>\n",
              "      <td>57.121180</td>\n",
              "    </tr>\n",
              "    <tr>\n",
              "      <th>2021-09</th>\n",
              "      <td>0.129646</td>\n",
              "      <td>-4.37</td>\n",
              "      <td>0.80</td>\n",
              "      <td>5.09</td>\n",
              "      <td>0.0</td>\n",
              "      <td>0.129646</td>\n",
              "      <td>57.271274</td>\n",
              "    </tr>\n",
              "    <tr>\n",
              "      <th>2021-10</th>\n",
              "      <td>0.029968</td>\n",
              "      <td>6.65</td>\n",
              "      <td>-2.28</td>\n",
              "      <td>-0.45</td>\n",
              "      <td>0.0</td>\n",
              "      <td>0.029968</td>\n",
              "      <td>57.051784</td>\n",
              "    </tr>\n",
              "  </tbody>\n",
              "</table>\n",
              "</div>"
            ],
            "text/plain": [
              "             ADBE  Mkt-RF   SMB   HML   RF   ADBE-RF    AvgTone\n",
              "Date                                                           \n",
              "2021-06  0.061454    2.75  1.80 -7.76  0.0  0.061454  57.121221\n",
              "2021-07  0.067677    1.27 -3.96 -1.75  0.0  0.067677  57.128547\n",
              "2021-08 -0.132560    2.90 -0.48 -0.13  0.0 -0.132560  57.121180\n",
              "2021-09  0.129646   -4.37  0.80  5.09  0.0  0.129646  57.271274\n",
              "2021-10  0.029968    6.65 -2.28 -0.45  0.0  0.029968  57.051784"
            ]
          },
          "metadata": {},
          "execution_count": 69
        }
      ]
    },
    {
      "cell_type": "code",
      "source": [
        "y = merge_2['ADBE-RF']\n",
        "X = merge_2[['Mkt-RF','SMB','HML','AvgTone']]\n",
        "\n",
        "X_sm = sm.add_constant(X)"
      ],
      "metadata": {
        "id": "yh2u-8cYv27z"
      },
      "execution_count": null,
      "outputs": []
    },
    {
      "cell_type": "code",
      "source": [
        "model = sm.OLS(y,X_sm)\n",
        "results = model.fit()\n",
        "results.summary()"
      ],
      "metadata": {
        "id": "gvtMkjmDv4pi",
        "colab": {
          "base_uri": "https://localhost:8080/",
          "height": 550
        },
        "outputId": "09f9b235-7ed0-4b5a-cf94-52e855406ffc"
      },
      "execution_count": null,
      "outputs": [
        {
          "output_type": "execute_result",
          "data": {
            "text/html": [
              "<table class=\"simpletable\">\n",
              "<caption>OLS Regression Results</caption>\n",
              "<tr>\n",
              "  <th>Dep. Variable:</th>         <td>ADBE-RF</td>     <th>  R-squared:         </th> <td>   0.068</td>\n",
              "</tr>\n",
              "<tr>\n",
              "  <th>Model:</th>                   <td>OLS</td>       <th>  Adj. R-squared:    </th> <td>  -0.001</td>\n",
              "</tr>\n",
              "<tr>\n",
              "  <th>Method:</th>             <td>Least Squares</td>  <th>  F-statistic:       </th> <td>  0.9911</td>\n",
              "</tr>\n",
              "<tr>\n",
              "  <th>Date:</th>             <td>Sat, 11 Dec 2021</td> <th>  Prob (F-statistic):</th>  <td> 0.420</td> \n",
              "</tr>\n",
              "<tr>\n",
              "  <th>Time:</th>                 <td>17:15:57</td>     <th>  Log-Likelihood:    </th> <td>  50.622</td>\n",
              "</tr>\n",
              "<tr>\n",
              "  <th>No. Observations:</th>      <td>    59</td>      <th>  AIC:               </th> <td>  -91.24</td>\n",
              "</tr>\n",
              "<tr>\n",
              "  <th>Df Residuals:</th>          <td>    54</td>      <th>  BIC:               </th> <td>  -80.86</td>\n",
              "</tr>\n",
              "<tr>\n",
              "  <th>Df Model:</th>              <td>     4</td>      <th>                     </th>     <td> </td>   \n",
              "</tr>\n",
              "<tr>\n",
              "  <th>Covariance Type:</th>      <td>nonrobust</td>    <th>                     </th>     <td> </td>   \n",
              "</tr>\n",
              "</table>\n",
              "<table class=\"simpletable\">\n",
              "<tr>\n",
              "     <td></td>        <th>coef</th>     <th>std err</th>      <th>t</th>      <th>P>|t|</th>  <th>[0.025</th>    <th>0.975]</th>  \n",
              "</tr>\n",
              "<tr>\n",
              "  <th>const</th>   <td>   -0.1542</td> <td>    0.868</td> <td>   -0.178</td> <td> 0.860</td> <td>   -1.895</td> <td>    1.587</td>\n",
              "</tr>\n",
              "<tr>\n",
              "  <th>Mkt-RF</th>  <td>    0.0031</td> <td>    0.003</td> <td>    0.969</td> <td> 0.337</td> <td>   -0.003</td> <td>    0.009</td>\n",
              "</tr>\n",
              "<tr>\n",
              "  <th>SMB</th>     <td>    0.0040</td> <td>    0.006</td> <td>    0.715</td> <td> 0.478</td> <td>   -0.007</td> <td>    0.015</td>\n",
              "</tr>\n",
              "<tr>\n",
              "  <th>HML</th>     <td>    0.0039</td> <td>    0.004</td> <td>    0.975</td> <td> 0.334</td> <td>   -0.004</td> <td>    0.012</td>\n",
              "</tr>\n",
              "<tr>\n",
              "  <th>AvgTone</th> <td>    0.0018</td> <td>    0.016</td> <td>    0.114</td> <td> 0.909</td> <td>   -0.029</td> <td>    0.033</td>\n",
              "</tr>\n",
              "</table>\n",
              "<table class=\"simpletable\">\n",
              "<tr>\n",
              "  <th>Omnibus:</th>       <td> 0.964</td> <th>  Durbin-Watson:     </th> <td>   1.196</td>\n",
              "</tr>\n",
              "<tr>\n",
              "  <th>Prob(Omnibus):</th> <td> 0.618</td> <th>  Jarque-Bera (JB):  </th> <td>   0.958</td>\n",
              "</tr>\n",
              "<tr>\n",
              "  <th>Skew:</th>          <td>-0.148</td> <th>  Prob(JB):          </th> <td>   0.619</td>\n",
              "</tr>\n",
              "<tr>\n",
              "  <th>Kurtosis:</th>      <td> 2.451</td> <th>  Cond. No.          </th> <td>3.47e+03</td>\n",
              "</tr>\n",
              "</table><br/><br/>Warnings:<br/>[1] Standard Errors assume that the covariance matrix of the errors is correctly specified.<br/>[2] The condition number is large, 3.47e+03. This might indicate that there are<br/>strong multicollinearity or other numerical problems."
            ],
            "text/plain": [
              "<class 'statsmodels.iolib.summary.Summary'>\n",
              "\"\"\"\n",
              "                            OLS Regression Results                            \n",
              "==============================================================================\n",
              "Dep. Variable:                ADBE-RF   R-squared:                       0.068\n",
              "Model:                            OLS   Adj. R-squared:                 -0.001\n",
              "Method:                 Least Squares   F-statistic:                    0.9911\n",
              "Date:                Sat, 11 Dec 2021   Prob (F-statistic):              0.420\n",
              "Time:                        17:15:57   Log-Likelihood:                 50.622\n",
              "No. Observations:                  59   AIC:                            -91.24\n",
              "Df Residuals:                      54   BIC:                            -80.86\n",
              "Df Model:                           4                                         \n",
              "Covariance Type:            nonrobust                                         \n",
              "==============================================================================\n",
              "                 coef    std err          t      P>|t|      [0.025      0.975]\n",
              "------------------------------------------------------------------------------\n",
              "const         -0.1542      0.868     -0.178      0.860      -1.895       1.587\n",
              "Mkt-RF         0.0031      0.003      0.969      0.337      -0.003       0.009\n",
              "SMB            0.0040      0.006      0.715      0.478      -0.007       0.015\n",
              "HML            0.0039      0.004      0.975      0.334      -0.004       0.012\n",
              "AvgTone        0.0018      0.016      0.114      0.909      -0.029       0.033\n",
              "==============================================================================\n",
              "Omnibus:                        0.964   Durbin-Watson:                   1.196\n",
              "Prob(Omnibus):                  0.618   Jarque-Bera (JB):                0.958\n",
              "Skew:                          -0.148   Prob(JB):                        0.619\n",
              "Kurtosis:                       2.451   Cond. No.                     3.47e+03\n",
              "==============================================================================\n",
              "\n",
              "Warnings:\n",
              "[1] Standard Errors assume that the covariance matrix of the errors is correctly specified.\n",
              "[2] The condition number is large, 3.47e+03. This might indicate that there are\n",
              "strong multicollinearity or other numerical problems.\n",
              "\"\"\""
            ]
          },
          "metadata": {},
          "execution_count": 72
        }
      ]
    },
    {
      "cell_type": "code",
      "source": [
        "!pip install --quiet pingouin\n",
        "import pingouin as pg"
      ],
      "metadata": {
        "id": "XPUZEjjqdZzE",
        "outputId": "67750e5d-a920-48be-c9d2-4f7adcf5e489",
        "colab": {
          "base_uri": "https://localhost:8080/"
        }
      },
      "execution_count": null,
      "outputs": [
        {
          "output_type": "stream",
          "name": "stdout",
          "text": [
            "\u001b[31mERROR: pip's dependency resolver does not currently take into account all the packages that are installed. This behaviour is the source of the following dependency conflicts.\n",
            "albumentations 0.1.12 requires imgaug<0.2.7,>=0.2.5, but you have imgaug 0.2.9 which is incompatible.\u001b[0m\n"
          ]
        }
      ]
    },
    {
      "cell_type": "code",
      "source": [
        "import numpy as np"
      ],
      "metadata": {
        "id": "uIZcaeoMfrFL"
      },
      "execution_count": null,
      "outputs": []
    },
    {
      "cell_type": "code",
      "source": [
        "pg.linear_regression(np.log(df[['AvgTone']]), np.log(df['Adj Close']))"
      ],
      "metadata": {
        "id": "htycdAXefyUV",
        "outputId": "b9922bc9-5d16-4aca-e6d5-048d0acd9713",
        "colab": {
          "base_uri": "https://localhost:8080/",
          "height": 112
        }
      },
      "execution_count": null,
      "outputs": [
        {
          "output_type": "execute_result",
          "data": {
            "text/html": [
              "<div>\n",
              "<style scoped>\n",
              "    .dataframe tbody tr th:only-of-type {\n",
              "        vertical-align: middle;\n",
              "    }\n",
              "\n",
              "    .dataframe tbody tr th {\n",
              "        vertical-align: top;\n",
              "    }\n",
              "\n",
              "    .dataframe thead th {\n",
              "        text-align: right;\n",
              "    }\n",
              "</style>\n",
              "<table border=\"1\" class=\"dataframe\">\n",
              "  <thead>\n",
              "    <tr style=\"text-align: right;\">\n",
              "      <th></th>\n",
              "      <th>names</th>\n",
              "      <th>coef</th>\n",
              "      <th>se</th>\n",
              "      <th>T</th>\n",
              "      <th>pval</th>\n",
              "      <th>r2</th>\n",
              "      <th>adj_r2</th>\n",
              "      <th>CI[2.5%]</th>\n",
              "      <th>CI[97.5%]</th>\n",
              "    </tr>\n",
              "  </thead>\n",
              "  <tbody>\n",
              "    <tr>\n",
              "      <th>0</th>\n",
              "      <td>Intercept</td>\n",
              "      <td>-91.086881</td>\n",
              "      <td>8.799440</td>\n",
              "      <td>-10.351441</td>\n",
              "      <td>1.044190e-14</td>\n",
              "      <td>0.679439</td>\n",
              "      <td>0.673815</td>\n",
              "      <td>-108.707455</td>\n",
              "      <td>-73.466306</td>\n",
              "    </tr>\n",
              "    <tr>\n",
              "      <th>1</th>\n",
              "      <td>AvgTone</td>\n",
              "      <td>24.062248</td>\n",
              "      <td>2.189169</td>\n",
              "      <td>10.991497</td>\n",
              "      <td>1.049752e-15</td>\n",
              "      <td>0.679439</td>\n",
              "      <td>0.673815</td>\n",
              "      <td>19.678512</td>\n",
              "      <td>28.445984</td>\n",
              "    </tr>\n",
              "  </tbody>\n",
              "</table>\n",
              "</div>"
            ],
            "text/plain": [
              "       names       coef        se  ...    adj_r2    CI[2.5%]  CI[97.5%]\n",
              "0  Intercept -91.086881  8.799440  ...  0.673815 -108.707455 -73.466306\n",
              "1    AvgTone  24.062248  2.189169  ...  0.673815   19.678512  28.445984\n",
              "\n",
              "[2 rows x 9 columns]"
            ]
          },
          "metadata": {},
          "execution_count": 91
        }
      ]
    },
    {
      "cell_type": "code",
      "source": [
        "merge_2"
      ],
      "metadata": {
        "id": "5rmUzAgFgmt9"
      },
      "execution_count": null,
      "outputs": []
    },
    {
      "cell_type": "code",
      "source": [
        "import yfinance as yf\n",
        "\n",
        "ADBE = yf.Ticker(\"ADBE\")\n",
        "data = yf.download(\"ADBE\", start=\"2016-12-01\", end=\"2021-10-31\")[['Adj Close']]\n",
        "data=data.resample('M').mean()"
      ],
      "metadata": {
        "id": "EZgjAVk0gJIb",
        "outputId": "c908303f-43fe-43bf-c6e2-9ff2a27fcba8",
        "colab": {
          "base_uri": "https://localhost:8080/"
        }
      },
      "execution_count": null,
      "outputs": [
        {
          "output_type": "stream",
          "name": "stdout",
          "text": [
            "\r[*********************100%***********************]  1 of 1 completed\n"
          ]
        }
      ]
    },
    {
      "cell_type": "code",
      "source": [
        "data.index=df_esg.index"
      ],
      "metadata": {
        "id": "xnvbJt-UgqD1"
      },
      "execution_count": null,
      "outputs": []
    },
    {
      "cell_type": "code",
      "source": [
        "df = pd.merge(data,df_esg, on = 'Date')"
      ],
      "metadata": {
        "id": "oljNQkzWg2Qz"
      },
      "execution_count": null,
      "outputs": []
    },
    {
      "cell_type": "code",
      "source": [
        "import matplotlib.pyplot as plt\n",
        "df_esg[\"AvgTone\"].plot(figsize=(12,8),fontsize=10,color='r')\n",
        "plt.ylabel('Close Price', fontsize=12)\n",
        "data[\"Adj Close\"].plot(figsize=(12,8),fontsize=10,secondary_y=True)\n",
        "\n",
        "plt.xlabel('Date', fontsize=12)\n",
        "# df[\"MA 20\"][20:].plot(figsize=(10,5),color=\"Red\")\n",
        "plt.show()"
      ],
      "metadata": {
        "id": "mi_0WZLdg-s8",
        "outputId": "870c415e-a5f7-474f-dee7-2aacdc24a0fc",
        "colab": {
          "base_uri": "https://localhost:8080/",
          "height": 497
        }
      },
      "execution_count": null,
      "outputs": [
        {
          "output_type": "display_data",
          "data": {
            "image/png": "[encoded data removed]",
            "text/plain": [
              "<Figure size 864x576 with 2 Axes>"
            ]
          },
          "metadata": {
            "needs_background": "light"
          }
        }
      ]
    },
    {
      "cell_type": "code",
      "source": [
        ""
      ],
      "metadata": {
        "id": "mH14eGUQg_Ua"
      },
      "execution_count": null,
      "outputs": []
    }
  ]
}